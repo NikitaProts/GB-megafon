{
 "cells": [
  {
   "cell_type": "code",
   "execution_count": 12,
   "metadata": {},
   "outputs": [],
   "source": [
    "import pandas as pd\n",
    "import numpy as np\n",
    "import matplotlib.pyplot as plt\n",
    "%matplotlib inline"
   ]
  },
  {
   "cell_type": "code",
   "execution_count": 13,
   "metadata": {},
   "outputs": [],
   "source": [
    "import sys\n",
    "if not sys.warnoptions:\n",
    "    import warnings\n",
    "    warnings.simplefilter(\"ignore\")"
   ]
  },
  {
   "cell_type": "code",
   "execution_count": 14,
   "metadata": {},
   "outputs": [
    {
     "data": {
      "text/html": [
       "<div>\n",
       "<style scoped>\n",
       "    .dataframe tbody tr th:only-of-type {\n",
       "        vertical-align: middle;\n",
       "    }\n",
       "\n",
       "    .dataframe tbody tr th {\n",
       "        vertical-align: top;\n",
       "    }\n",
       "\n",
       "    .dataframe thead th {\n",
       "        text-align: right;\n",
       "    }\n",
       "</style>\n",
       "<table border=\"1\" class=\"dataframe\">\n",
       "  <thead>\n",
       "    <tr style=\"text-align: right;\">\n",
       "      <th></th>\n",
       "      <th>Unnamed: 0</th>\n",
       "      <th>id</th>\n",
       "      <th>vas_id</th>\n",
       "      <th>buy_time</th>\n",
       "      <th>target</th>\n",
       "    </tr>\n",
       "  </thead>\n",
       "  <tbody>\n",
       "    <tr>\n",
       "      <th>0</th>\n",
       "      <td>0</td>\n",
       "      <td>540968</td>\n",
       "      <td>8.0</td>\n",
       "      <td>1537131600</td>\n",
       "      <td>0.0</td>\n",
       "    </tr>\n",
       "    <tr>\n",
       "      <th>1</th>\n",
       "      <td>1</td>\n",
       "      <td>1454121</td>\n",
       "      <td>4.0</td>\n",
       "      <td>1531688400</td>\n",
       "      <td>0.0</td>\n",
       "    </tr>\n",
       "    <tr>\n",
       "      <th>2</th>\n",
       "      <td>2</td>\n",
       "      <td>2458816</td>\n",
       "      <td>1.0</td>\n",
       "      <td>1534107600</td>\n",
       "      <td>0.0</td>\n",
       "    </tr>\n",
       "    <tr>\n",
       "      <th>3</th>\n",
       "      <td>3</td>\n",
       "      <td>3535012</td>\n",
       "      <td>5.0</td>\n",
       "      <td>1535922000</td>\n",
       "      <td>0.0</td>\n",
       "    </tr>\n",
       "    <tr>\n",
       "      <th>4</th>\n",
       "      <td>4</td>\n",
       "      <td>1693214</td>\n",
       "      <td>1.0</td>\n",
       "      <td>1535922000</td>\n",
       "      <td>0.0</td>\n",
       "    </tr>\n",
       "  </tbody>\n",
       "</table>\n",
       "</div>"
      ],
      "text/plain": [
       "   Unnamed: 0       id  vas_id    buy_time  target\n",
       "0           0   540968     8.0  1537131600     0.0\n",
       "1           1  1454121     4.0  1531688400     0.0\n",
       "2           2  2458816     1.0  1534107600     0.0\n",
       "3           3  3535012     5.0  1535922000     0.0\n",
       "4           4  1693214     1.0  1535922000     0.0"
      ]
     },
     "execution_count": 14,
     "metadata": {},
     "output_type": "execute_result"
    }
   ],
   "source": [
    "data = pd.read_csv('data_train.csv')\n",
    "data.head()"
   ]
  },
  {
   "cell_type": "code",
   "execution_count": 16,
   "metadata": {},
   "outputs": [
    {
     "data": {
      "text/html": [
       "<div>\n",
       "<style scoped>\n",
       "    .dataframe tbody tr th:only-of-type {\n",
       "        vertical-align: middle;\n",
       "    }\n",
       "\n",
       "    .dataframe tbody tr th {\n",
       "        vertical-align: top;\n",
       "    }\n",
       "\n",
       "    .dataframe thead th {\n",
       "        text-align: right;\n",
       "    }\n",
       "</style>\n",
       "<table border=\"1\" class=\"dataframe\">\n",
       "  <thead>\n",
       "    <tr style=\"text-align: right;\">\n",
       "      <th></th>\n",
       "      <th>Unnamed: 0</th>\n",
       "      <th>id</th>\n",
       "      <th>vas_id</th>\n",
       "      <th>buy_time</th>\n",
       "    </tr>\n",
       "  </thead>\n",
       "  <tbody>\n",
       "    <tr>\n",
       "      <th>0</th>\n",
       "      <td>0</td>\n",
       "      <td>3130519</td>\n",
       "      <td>2.0</td>\n",
       "      <td>1548018000</td>\n",
       "    </tr>\n",
       "    <tr>\n",
       "      <th>1</th>\n",
       "      <td>1</td>\n",
       "      <td>2000860</td>\n",
       "      <td>4.0</td>\n",
       "      <td>1548018000</td>\n",
       "    </tr>\n",
       "    <tr>\n",
       "      <th>2</th>\n",
       "      <td>2</td>\n",
       "      <td>1099444</td>\n",
       "      <td>2.0</td>\n",
       "      <td>1546808400</td>\n",
       "    </tr>\n",
       "    <tr>\n",
       "      <th>3</th>\n",
       "      <td>3</td>\n",
       "      <td>1343255</td>\n",
       "      <td>5.0</td>\n",
       "      <td>1547413200</td>\n",
       "    </tr>\n",
       "    <tr>\n",
       "      <th>4</th>\n",
       "      <td>4</td>\n",
       "      <td>1277040</td>\n",
       "      <td>2.0</td>\n",
       "      <td>1546808400</td>\n",
       "    </tr>\n",
       "  </tbody>\n",
       "</table>\n",
       "</div>"
      ],
      "text/plain": [
       "   Unnamed: 0       id  vas_id    buy_time\n",
       "0           0  3130519     2.0  1548018000\n",
       "1           1  2000860     4.0  1548018000\n",
       "2           2  1099444     2.0  1546808400\n",
       "3           3  1343255     5.0  1547413200\n",
       "4           4  1277040     2.0  1546808400"
      ]
     },
     "execution_count": 16,
     "metadata": {},
     "output_type": "execute_result"
    }
   ],
   "source": [
    "data_test = pd.read_csv('data_test.csv')\n",
    "data_test.head()"
   ]
  },
  {
   "cell_type": "code",
   "execution_count": 17,
   "metadata": {},
   "outputs": [],
   "source": [
    "df_f = pd.read_csv('features.csv', sep='\\t')"
   ]
  },
  {
   "cell_type": "code",
   "execution_count": 18,
   "metadata": {},
   "outputs": [],
   "source": [
    "_df_concat = pd.concat([data, data_test], axis=0)\n",
    "_df_concat['is_no_first'] = _df_concat.duplicated(subset='id', keep='first')*1\n",
    "data = _df_concat.iloc[:len(data),:]\n",
    "data_test = _df_concat.iloc[:len(data_test),:]"
   ]
  },
  {
   "cell_type": "code",
   "execution_count": 19,
   "metadata": {},
   "outputs": [],
   "source": [
    "from datetime import datetime\n",
    "data['buy_time'] = [datetime.fromtimestamp(x) for x in data['buy_time']]\n",
    "df_f['buy_time'] = [datetime.fromtimestamp(x) for x in df_f['buy_time']]\n",
    "data_test['buy_time'] = [datetime.fromtimestamp(x) for x in data_test['buy_time']]"
   ]
  },
  {
   "cell_type": "code",
   "execution_count": 20,
   "metadata": {},
   "outputs": [],
   "source": [
    "data = data.sort_values(by='buy_time')\n",
    "df_f = df_f.sort_values(by='buy_time')\n",
    "data_test = data_test.sort_values(by='buy_time')"
   ]
  },
  {
   "cell_type": "code",
   "execution_count": 21,
   "metadata": {},
   "outputs": [],
   "source": [
    "df_f['buy_time_feat'] = df_f['buy_time']"
   ]
  },
  {
   "cell_type": "code",
   "execution_count": 22,
   "metadata": {},
   "outputs": [],
   "source": [
    "df = pd.merge_asof(data, df_f, on=\"buy_time\", by=\"id\", direction='nearest')\n",
    "df_test = pd.merge_asof(data_test, df_f, on=\"buy_time\", by=\"id\", direction='nearest')"
   ]
  },
  {
   "cell_type": "code",
   "execution_count": 23,
   "metadata": {},
   "outputs": [],
   "source": [
    "df['diff'] = (df['buy_time'] - df['buy_time_feat']).dt.days\n",
    "df_test['diff'] = (df_test['buy_time'] - df_test['buy_time_feat']).dt.days"
   ]
  },
  {
   "cell_type": "code",
   "execution_count": 24,
   "metadata": {},
   "outputs": [],
   "source": [
    "df_test.drop(['Unnamed: 0_x', 'Unnamed: 0_y', 'buy_time_feat'], axis=1, inplace=True)"
   ]
  },
  {
   "cell_type": "code",
   "execution_count": 25,
   "metadata": {},
   "outputs": [],
   "source": [
    "df_train = df.copy()"
   ]
  },
  {
   "cell_type": "code",
   "execution_count": 26,
   "metadata": {},
   "outputs": [],
   "source": [
    "X_train = df_train[df_train['buy_time'] < '2018-11-30']\n",
    "X_test = df_train[df_train['buy_time'] > '2018-11-30']\n",
    "Y_train = X_train['target']\n",
    "Y_test = X_test['target']\n",
    "\n",
    "X_train.drop(['id', 'buy_time', 'target', 'Unnamed: 0_x', 'Unnamed: 0_y', 'buy_time_feat'], axis=1, inplace=True)\n",
    "X_test.drop(['id', 'buy_time', 'target', 'Unnamed: 0_x', 'Unnamed: 0_y', 'buy_time_feat'], axis=1, inplace=True)"
   ]
  },
  {
   "cell_type": "code",
   "execution_count": 27,
   "metadata": {},
   "outputs": [
    {
     "name": "stdout",
     "output_type": "stream",
     "text": [
      "29\n"
     ]
    }
   ],
   "source": [
    "from catboost import CatBoostClassifier, Pool\n",
    "\n",
    "\n",
    "train_data = Pool(data=X_train,\n",
    "                   label=Y_train)\n",
    "                   # cat_features=cat_feats)\n",
    "\n",
    "eval_dataset = Pool(X_test,\n",
    "                 label=Y_test)\n",
    "                  # cat_features=cat_feats)\n",
    "\n",
    "model = CatBoostClassifier(iterations=2500,\n",
    "                           depth=10,\n",
    "                           learning_rate=0.1,\n",
    "                           loss_function='Logloss',\n",
    "                           eval_metric='AUC',\n",
    "                           early_stopping_rounds=50,\n",
    "                           grow_policy='Depthwise',\n",
    "                           random_state=42,\n",
    "                           thread_count=4,\n",
    "                           use_best_model=True,\n",
    "                           verbose=True)\n",
    "# train the model\n",
    "model.fit(train_data, eval_set=eval_dataset, logging_level='Silent')\n",
    "# make the prediction using the resulting model\n",
    "print(model.get_best_iteration())\n",
    "preds_class = model.predict(train_data)\n",
    "preds_proba = model.predict_proba(train_data)"
   ]
  },
  {
   "cell_type": "code",
   "execution_count": 28,
   "metadata": {},
   "outputs": [
    {
     "data": {
      "image/png": "[encoded data removed]",
      "text/plain": [
       "<Figure size 1152x576 with 1 Axes>"
      ]
     },
     "metadata": {
      "needs_background": "light"
     },
     "output_type": "display_data"
    }
   ],
   "source": [
    "from catboost.utils import get_roc_curve, get_fpr_curve, get_fnr_curve, select_threshold\n",
    "from sklearn.metrics import f1_score, roc_auc_score, precision_score, classification_report, precision_recall_curve, confusion_matrix, auc\n",
    "from sklearn.model_selection import train_test_split\n",
    "\n",
    "curve = get_roc_curve(model, eval_dataset)\n",
    "(fpr, tpr, thresholds)=curve\n",
    "roc_auc=auc(fpr, tpr)\n",
    "\n",
    "plt.figure(figsize=(16, 8))\n",
    "lw=2\n",
    "\n",
    "plt.plot(fpr, tpr, color='darkorange',\n",
    "         lw=lw, label='ROC curve (area = %0.2f)' % roc_auc, alpha=0.5)\n",
    "\n",
    "plt.plot([0, 1], [0, 1], color='navy', lw=lw, linestyle='--', alpha=0.5)\n",
    "\n",
    "plt.xlim([0.0, 1.0])\n",
    "plt.ylim([0.0, 1.05])\n",
    "plt.xticks(fontsize=16)\n",
    "plt.yticks(fontsize=16)\n",
    "plt.grid(True)\n",
    "plt.xlabel('False Positive Rate', fontsize=16)\n",
    "plt.ylabel('True Positive Rate', fontsize=16)\n",
    "plt.title('Receiver operating characteristic', fontsize=20)\n",
    "plt.legend(loc=\"lower right\", fontsize=16)\n",
    "plt.show()"
   ]
  },
  {
   "cell_type": "code",
   "execution_count": 29,
   "metadata": {},
   "outputs": [],
   "source": [
    "results = pd.DataFrame()\n",
    "results['real'] = Y_train\n",
    "results['catboost'] = preds_class"
   ]
  },
  {
   "cell_type": "code",
   "execution_count": 30,
   "metadata": {},
   "outputs": [
    {
     "name": "stdout",
     "output_type": "stream",
     "text": [
      "f1_score real: 1.0\n",
      "f1_score train: 0.7382026183525234\n",
      "roc_auc_score train: 0.9088521572033516\n"
     ]
    }
   ],
   "source": [
    "print(f\"f1_score real: {f1_score(Y_train, results['real'], average='macro')}\")\n",
    "print(f\"f1_score train: {f1_score(Y_train, results['catboost'], average='macro')}\")\n",
    "print(f\"roc_auc_score train: {roc_auc_score(Y_train, preds_proba[:, 1])}\")"
   ]
  },
  {
   "cell_type": "code",
   "execution_count": 31,
   "metadata": {},
   "outputs": [],
   "source": [
    "preds_class = model.predict(eval_dataset)\n",
    "preds_proba = model.predict_proba(eval_dataset)\n",
    "results_test = pd.DataFrame()\n",
    "results_test['real'] = Y_test\n",
    "results_test['catboost'] = preds_class"
   ]
  },
  {
   "cell_type": "code",
   "execution_count": 32,
   "metadata": {},
   "outputs": [
    {
     "name": "stdout",
     "output_type": "stream",
     "text": [
      "f1_score real: 1.0\n",
      "f1_score test: 0.6966461052577112\n",
      "roc_auc_score test: 0.9290454703125743\n"
     ]
    }
   ],
   "source": [
    "print(f\"f1_score real: {f1_score(Y_test, results_test['real'], average='macro')}\")\n",
    "print(f\"f1_score test: {f1_score(Y_test, results_test['catboost'], average='macro')}\")\n",
    "print(f\"roc_auc_score test: {roc_auc_score(Y_test, preds_proba[:, 1])}\")"
   ]
  },
  {
   "cell_type": "code",
   "execution_count": 33,
   "metadata": {},
   "outputs": [],
   "source": [
    "feature_importance = pd.DataFrame({'feature_importance': model.get_feature_importance(train_data),\n",
    "              'feature_names': X_train.columns}).sort_values(by=['feature_importance'],\n",
    "                                                             ascending=False)"
   ]
  },
  {
   "cell_type": "code",
   "execution_count": 34,
   "metadata": {},
   "outputs": [
    {
     "data": {
      "text/html": [
       "<div>\n",
       "<style scoped>\n",
       "    .dataframe tbody tr th:only-of-type {\n",
       "        vertical-align: middle;\n",
       "    }\n",
       "\n",
       "    .dataframe tbody tr th {\n",
       "        vertical-align: top;\n",
       "    }\n",
       "\n",
       "    .dataframe thead th {\n",
       "        text-align: right;\n",
       "    }\n",
       "</style>\n",
       "<table border=\"1\" class=\"dataframe\">\n",
       "  <thead>\n",
       "    <tr style=\"text-align: right;\">\n",
       "      <th></th>\n",
       "      <th>feature_importance</th>\n",
       "      <th>feature_names</th>\n",
       "    </tr>\n",
       "  </thead>\n",
       "  <tbody>\n",
       "    <tr>\n",
       "      <th>0</th>\n",
       "      <td>49.657020</td>\n",
       "      <td>vas_id</td>\n",
       "    </tr>\n",
       "    <tr>\n",
       "      <th>1</th>\n",
       "      <td>30.915755</td>\n",
       "      <td>is_no_first</td>\n",
       "    </tr>\n",
       "    <tr>\n",
       "      <th>255</th>\n",
       "      <td>10.806501</td>\n",
       "      <td>diff</td>\n",
       "    </tr>\n",
       "    <tr>\n",
       "      <th>224</th>\n",
       "      <td>2.015439</td>\n",
       "      <td>222</td>\n",
       "    </tr>\n",
       "    <tr>\n",
       "      <th>203</th>\n",
       "      <td>0.418318</td>\n",
       "      <td>201</td>\n",
       "    </tr>\n",
       "    <tr>\n",
       "      <th>...</th>\n",
       "      <td>...</td>\n",
       "      <td>...</td>\n",
       "    </tr>\n",
       "    <tr>\n",
       "      <th>25</th>\n",
       "      <td>0.000000</td>\n",
       "      <td>23</td>\n",
       "    </tr>\n",
       "    <tr>\n",
       "      <th>218</th>\n",
       "      <td>0.000000</td>\n",
       "      <td>216</td>\n",
       "    </tr>\n",
       "    <tr>\n",
       "      <th>220</th>\n",
       "      <td>0.000000</td>\n",
       "      <td>218</td>\n",
       "    </tr>\n",
       "    <tr>\n",
       "      <th>35</th>\n",
       "      <td>0.000000</td>\n",
       "      <td>33</td>\n",
       "    </tr>\n",
       "    <tr>\n",
       "      <th>86</th>\n",
       "      <td>0.000000</td>\n",
       "      <td>84</td>\n",
       "    </tr>\n",
       "  </tbody>\n",
       "</table>\n",
       "<p>256 rows × 2 columns</p>\n",
       "</div>"
      ],
      "text/plain": [
       "     feature_importance feature_names\n",
       "0             49.657020        vas_id\n",
       "1             30.915755   is_no_first\n",
       "255           10.806501          diff\n",
       "224            2.015439           222\n",
       "203            0.418318           201\n",
       "..                  ...           ...\n",
       "25             0.000000            23\n",
       "218            0.000000           216\n",
       "220            0.000000           218\n",
       "35             0.000000            33\n",
       "86             0.000000            84\n",
       "\n",
       "[256 rows x 2 columns]"
      ]
     },
     "execution_count": 34,
     "metadata": {},
     "output_type": "execute_result"
    }
   ],
   "source": [
    "feature_importance"
   ]
  },
  {
   "cell_type": "code",
   "execution_count": 35,
   "metadata": {},
   "outputs": [],
   "source": [
    "feature_cols = feature_importance[:20]['feature_names'].to_list()"
   ]
  },
  {
   "cell_type": "code",
   "execution_count": 36,
   "metadata": {},
   "outputs": [
    {
     "name": "stdout",
     "output_type": "stream",
     "text": [
      "Best Threshold=0.307950, F-Score=0.569, Precision=0.416, Recall=0.902\n"
     ]
    }
   ],
   "source": [
    "preds = model.predict_proba(eval_dataset)[:, 1]\n",
    "pd.DataFrame({'Preds': preds}).to_csv(\"preds_test.csv\", index=False)\n",
    "precision, recall, thresholds = precision_recall_curve(Y_test, preds)\n",
    "\n",
    "fscore = (2 * precision * recall) / (precision + recall)\n",
    "fscore[np.isnan(fscore)] = 0\n",
    "ix = np.argmax(fscore[:])\n",
    "print('Best Threshold=%f, F-Score=%.3f, Precision=%.3f, Recall=%.3f' % (thresholds[ix],\n",
    "                                                                        fscore[ix],\n",
    "                                                                        precision[ix],\n",
    "                                                                        recall[ix]))"
   ]
  },
  {
   "cell_type": "code",
   "execution_count": 37,
   "metadata": {},
   "outputs": [],
   "source": [
    "def compare_threshold(single_client_revenue, per_client_costs):\n",
    "    compare_thr = pd.DataFrame(columns=['Threshold', 'Recall', 'Zero_point', 'Formula', 'Profit'])\n",
    "    for x in range(10, 90, 1):\n",
    "        cnf_matrix = confusion_matrix(Y_test, preds>x/100)\n",
    "        TN = cnf_matrix[0][0]\n",
    "        FN = cnf_matrix[1][0]\n",
    "        TP = cnf_matrix[1][1]\n",
    "        FP = cnf_matrix[0][1]\n",
    "\n",
    "        TPR = round(TP/(TP+FN), 2)\n",
    "        ALL = TP + FP\n",
    "\n",
    "        zero_point = round((TP+FP)/TP, 2)\n",
    "        formula = f'Profit = {TP} * SCR - {ALL} * PCC'\n",
    "\n",
    "       \n",
    "        profit = TP * single_client_revenue - ALL * per_client_costs\n",
    "\n",
    "        compare_thr = compare_thr.append({'Threshold': x/100, 'Recall': TPR, 'Zero_point': zero_point, 'Formula': formula, 'Profit': profit}, ignore_index=True)\n",
    "\n",
    "    max_p = np.argmax(compare_thr['Profit'])\n",
    "\n",
    "    max_profit = int(compare_thr['Profit'][max_p])\n",
    "    best_threshold = compare_thr['Threshold'][max_p]\n",
    "    recall = compare_thr['Recall'][max_p]\n",
    "\n",
    "    return compare_thr, max_profit, best_threshold, recall"
   ]
  },
  {
   "cell_type": "code",
   "execution_count": 38,
   "metadata": {},
   "outputs": [
    {
     "name": "stdout",
     "output_type": "stream",
     "text": [
      "max_profit:  52774\n",
      "best_threshold:  0.25\n",
      "recall:  0.94\n"
     ]
    },
    {
     "data": {
      "text/html": [
       "<div>\n",
       "<style scoped>\n",
       "    .dataframe tbody tr th:only-of-type {\n",
       "        vertical-align: middle;\n",
       "    }\n",
       "\n",
       "    .dataframe tbody tr th {\n",
       "        vertical-align: top;\n",
       "    }\n",
       "\n",
       "    .dataframe thead th {\n",
       "        text-align: right;\n",
       "    }\n",
       "</style>\n",
       "<table border=\"1\" class=\"dataframe\">\n",
       "  <thead>\n",
       "    <tr style=\"text-align: right;\">\n",
       "      <th></th>\n",
       "      <th>Threshold</th>\n",
       "      <th>Recall</th>\n",
       "      <th>Zero_point</th>\n",
       "      <th>Formula</th>\n",
       "      <th>Profit</th>\n",
       "    </tr>\n",
       "  </thead>\n",
       "  <tbody>\n",
       "    <tr>\n",
       "      <th>0</th>\n",
       "      <td>0.10</td>\n",
       "      <td>0.98</td>\n",
       "      <td>3.43</td>\n",
       "      <td>Profit = 21729 * SCR - 74526 * PCC</td>\n",
       "      <td>34119</td>\n",
       "    </tr>\n",
       "    <tr>\n",
       "      <th>1</th>\n",
       "      <td>0.11</td>\n",
       "      <td>0.98</td>\n",
       "      <td>3.29</td>\n",
       "      <td>Profit = 21715 * SCR - 71486 * PCC</td>\n",
       "      <td>37089</td>\n",
       "    </tr>\n",
       "    <tr>\n",
       "      <th>2</th>\n",
       "      <td>0.12</td>\n",
       "      <td>0.98</td>\n",
       "      <td>3.20</td>\n",
       "      <td>Profit = 21691 * SCR - 69313 * PCC</td>\n",
       "      <td>39142</td>\n",
       "    </tr>\n",
       "    <tr>\n",
       "      <th>3</th>\n",
       "      <td>0.13</td>\n",
       "      <td>0.98</td>\n",
       "      <td>3.12</td>\n",
       "      <td>Profit = 21672 * SCR - 67609 * PCC</td>\n",
       "      <td>40751</td>\n",
       "    </tr>\n",
       "    <tr>\n",
       "      <th>4</th>\n",
       "      <td>0.14</td>\n",
       "      <td>0.97</td>\n",
       "      <td>3.04</td>\n",
       "      <td>Profit = 21645 * SCR - 65892 * PCC</td>\n",
       "      <td>42333</td>\n",
       "    </tr>\n",
       "    <tr>\n",
       "      <th>...</th>\n",
       "      <td>...</td>\n",
       "      <td>...</td>\n",
       "      <td>...</td>\n",
       "      <td>...</td>\n",
       "      <td>...</td>\n",
       "    </tr>\n",
       "    <tr>\n",
       "      <th>75</th>\n",
       "      <td>0.85</td>\n",
       "      <td>0.04</td>\n",
       "      <td>1.43</td>\n",
       "      <td>Profit = 900 * SCR - 1284 * PCC</td>\n",
       "      <td>3216</td>\n",
       "    </tr>\n",
       "    <tr>\n",
       "      <th>76</th>\n",
       "      <td>0.86</td>\n",
       "      <td>0.02</td>\n",
       "      <td>1.46</td>\n",
       "      <td>Profit = 528 * SCR - 771 * PCC</td>\n",
       "      <td>1869</td>\n",
       "    </tr>\n",
       "    <tr>\n",
       "      <th>77</th>\n",
       "      <td>0.87</td>\n",
       "      <td>0.01</td>\n",
       "      <td>1.49</td>\n",
       "      <td>Profit = 272 * SCR - 406 * PCC</td>\n",
       "      <td>954</td>\n",
       "    </tr>\n",
       "    <tr>\n",
       "      <th>78</th>\n",
       "      <td>0.88</td>\n",
       "      <td>0.01</td>\n",
       "      <td>1.42</td>\n",
       "      <td>Profit = 152 * SCR - 216 * PCC</td>\n",
       "      <td>544</td>\n",
       "    </tr>\n",
       "    <tr>\n",
       "      <th>79</th>\n",
       "      <td>0.89</td>\n",
       "      <td>0.00</td>\n",
       "      <td>1.43</td>\n",
       "      <td>Profit = 75 * SCR - 107 * PCC</td>\n",
       "      <td>268</td>\n",
       "    </tr>\n",
       "  </tbody>\n",
       "</table>\n",
       "<p>80 rows × 5 columns</p>\n",
       "</div>"
      ],
      "text/plain": [
       "    Threshold  Recall  Zero_point                             Formula Profit\n",
       "0        0.10    0.98        3.43  Profit = 21729 * SCR - 74526 * PCC  34119\n",
       "1        0.11    0.98        3.29  Profit = 21715 * SCR - 71486 * PCC  37089\n",
       "2        0.12    0.98        3.20  Profit = 21691 * SCR - 69313 * PCC  39142\n",
       "3        0.13    0.98        3.12  Profit = 21672 * SCR - 67609 * PCC  40751\n",
       "4        0.14    0.97        3.04  Profit = 21645 * SCR - 65892 * PCC  42333\n",
       "..        ...     ...         ...                                 ...    ...\n",
       "75       0.85    0.04        1.43     Profit = 900 * SCR - 1284 * PCC   3216\n",
       "76       0.86    0.02        1.46      Profit = 528 * SCR - 771 * PCC   1869\n",
       "77       0.87    0.01        1.49      Profit = 272 * SCR - 406 * PCC    954\n",
       "78       0.88    0.01        1.42      Profit = 152 * SCR - 216 * PCC    544\n",
       "79       0.89    0.00        1.43       Profit = 75 * SCR - 107 * PCC    268\n",
       "\n",
       "[80 rows x 5 columns]"
      ]
     },
     "execution_count": 38,
     "metadata": {},
     "output_type": "execute_result"
    }
   ],
   "source": [
    "compare_thr, max_profit, best_threshold, recall = compare_threshold(5, 1)\n",
    "print('max_profit: ', max_profit)\n",
    "print('best_threshold: ', best_threshold)\n",
    "print('recall: ', recall)\n",
    "compare_thr"
   ]
  },
  {
   "cell_type": "code",
   "execution_count": null,
   "metadata": {},
   "outputs": [],
   "source": []
  },
  {
   "cell_type": "code",
   "execution_count": null,
   "metadata": {},
   "outputs": [],
   "source": []
  },
  {
   "cell_type": "code",
   "execution_count": null,
   "metadata": {},
   "outputs": [],
   "source": []
  }
 ],
 "metadata": {
  "kernelspec": {
   "display_name": "Python 3",
   "language": "python",
   "name": "python3"
  },
  "language_info": {
   "codemirror_mode": {
    "name": "ipython",
    "version": 3
   },
   "file_extension": ".py",
   "mimetype": "text/x-python",
   "name": "python",
   "nbconvert_exporter": "python",
   "pygments_lexer": "ipython3",
   "version": "3.8.5"
  }
 },
 "nbformat": 4,
 "nbformat_minor": 4
}
